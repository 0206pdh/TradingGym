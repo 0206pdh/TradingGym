{
 "cells": [
  {
   "cell_type": "code",
   "execution_count": null,
   "id": "6b156f4f-068c-43e6-b7ea-91ade6ec79ba",
   "metadata": {},
   "outputs": [],
   "source": [
    "import pandas as pd\n",
    "from environments.forex_trading import tgym"
   ]
  },
  {
   "cell_type": "code",
   "execution_count": null,
   "id": "2ba863d8-33f1-459f-a0cf-211668e2d6b8",
   "metadata": {},
   "outputs": [],
   "source": [
    "file = \"./data/split/GBPUSD/weekly/GBPUSD_2017_0.csv\"\n",
    "#file = \"./data/split/GBPUSD/weekly/GBPUSD_20191208_W_1523.csvx\"\n",
    "# file = \"./data/split/GBPUSD/weekly/GBPUSD_20190915_W_1401.csvx\"\n",
    "df = pd.read_csv(file)\n",
    "t = tgym(df,env_config_file='./data/config/gdbusd-test-1.json' )"
   ]
  },
  {
   "cell_type": "code",
   "execution_count": null,
   "id": "027bfd66-7e55-4d57-8c9c-22a7b5d61279",
   "metadata": {},
   "outputs": [],
   "source": [
    "import time\n",
    "import datetime\n",
    "from stable_baselines3 import PPO\n",
    "from stable_baselines3.common.env_util import make_vec_env\n",
    "\n",
    "# if model: del model # remove to demonstrate saving and loading\n",
    "model_name='./data/models/GBPUSD-week-20211023081447'\n",
    "model = PPO.load(model_name)\n",
    "\n",
    "start_time = time.time()\n",
    "obs = t.reset()\n",
    "t.current_step=0\n",
    "done = False\n",
    "while not done:\n",
    "    action, _states = model.predict(obs)\n",
    "    obs, rewards, done, info = t.step(action)\n",
    "    t.render(mode='human')\n",
    "print(f\"--- running time: {(time.time() - start_time)}---\")"
   ]
  },
  {
   "cell_type": "code",
   "execution_count": null,
   "id": "71f56932-0f7e-4bac-9a81-b54097522f69",
   "metadata": {},
   "outputs": [],
   "source": [
    "for i in t.transaction_history:\n",
    "    if i[\"Status\"] == 3:\n",
    "        print(i)\n"
   ]
  },
  {
   "cell_type": "code",
   "execution_count": null,
   "id": "f8c88550-fc1c-4c39-bb0e-196a41604507",
   "metadata": {},
   "outputs": [],
   "source": [
    "import time\n",
    "import datetime\n",
    "from stable_baselines3 import PPO\n",
    "from stable_baselines3.common.env_util import make_vec_env\n",
    "\n",
    "# Parallel environments\n",
    "\n",
    "start_time = time.time()\n",
    "model_name = \"./data/models/GBPUSD-week-\" + datetime.datetime.now().strftime('%Y%m%d%H%M%S')\n",
    "print(f'save model as {model_name}')\n",
    "model = PPO(\"MlpPolicy\", t, verbose=1)\n",
    "model.learn(total_timesteps=250000)\n",
    "model.save(model_name)\n",
    "print(f\"--- trainning time: {(time.time() - start_time)}---\")\n"
   ]
  }
 ],
 "metadata": {
  "interpreter": {
   "hash": "b5cbf5f3919493e81ecc3b85d0c032848d05d998b2f24661b916bdd5d1cc3a5e"
  },
  "kernelspec": {
   "display_name": "Python 3.8.6rc1 64-bit ('tvenv': venv)",
   "name": "python3"
  },
  "language_info": {
   "codemirror_mode": {
    "name": "ipython",
    "version": 3
   },
   "file_extension": ".py",
   "mimetype": "text/x-python",
   "name": "python",
   "nbconvert_exporter": "python",
   "pygments_lexer": "ipython3",
   "version": "3.8.6rc1"
  }
 },
 "nbformat": 4,
 "nbformat_minor": 5
}
