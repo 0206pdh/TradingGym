{
 "cells": [
  {
   "cell_type": "code",
   "execution_count": 1,
   "id": "6b156f4f-068c-43e6-b7ea-91ade6ec79ba",
   "metadata": {},
   "outputs": [
    {
     "name": "stderr",
     "output_type": "stream",
     "text": [
      "C:\\github\\TradingGym\\tvenv\\lib\\site-packages\\setuptools\\distutils_patch.py:25: UserWarning: Distutils was imported before Setuptools. This usage is discouraged and may exhibit undesirable behaviors or errors. Please use Setuptools' objects directly or at least import Setuptools first.\n",
      "  warnings.warn(\n"
     ]
    }
   ],
   "source": [
    "import pandas as pd\n",
    "from environments.forex_trading import tgym"
   ]
  },
  {
   "cell_type": "code",
   "execution_count": 2,
   "id": "2ba863d8-33f1-459f-a0cf-211668e2d6b8",
   "metadata": {},
   "outputs": [
    {
     "name": "stdout",
     "output_type": "stream",
     "text": [
      "initial done:\n",
      "observation_list:['open', 'high', 'low', 'close', 'minute', 'hour', 'day', 'macd', 'boll_ub', 'boll_lb', 'rsi_30', 'dx_30', 'close_30_sma', 'close_60_sma']\n",
      " assets:['GBPUSD']\n",
      " time serial: 2017-01-02 01:00:00 -> 2017-01-06 23:55:00 length: 1428\n"
     ]
    }
   ],
   "source": [
    "file = \"./data/split/GBPUSD/weekly/GBPUSD_2017_0.csv\"\n",
    "#file = \"./data/split/GBPUSD/weekly/GBPUSD_20191208_W_1523.csvx\"\n",
    "# file = \"./data/split/GBPUSD/weekly/GBPUSD_20190915_W_1401.csvx\"\n",
    "df = pd.read_csv(file)\n",
    "t = tgym(df,env_config_file='./data/config/gdbusd-test-1.json' )"
   ]
  },
  {
   "cell_type": "code",
   "execution_count": null,
   "id": "027bfd66-7e55-4d57-8c9c-22a7b5d61279",
   "metadata": {},
   "outputs": [],
   "source": [
    "import time\n",
    "import datetime\n",
    "from stable_baselines3 import PPO\n",
    "from stable_baselines3.common.env_util import make_vec_env\n",
    "\n",
    "# if model: del model # remove to demonstrate saving and loading\n",
    "model_name='./data/models/GBPUSD-week-20211023081447'\n",
    "model = PPO.load(model_name)\n",
    "\n",
    "start_time = time.time()\n",
    "obs = t.reset()\n",
    "t.current_step=0\n",
    "done = False\n",
    "while not done:\n",
    "    action, _states = model.predict(obs)\n",
    "    obs, rewards, done, info = t.step(action)\n",
    "    t.render(mode='human')\n",
    "print(f\"--- running time: {(time.time() - start_time)}---\")"
   ]
  },
  {
   "cell_type": "code",
   "execution_count": null,
   "id": "65b399b1-32b6-47ad-af11-61717e884317",
   "metadata": {},
   "outputs": [],
   "source": []
  },
  {
   "cell_type": "code",
   "execution_count": null,
   "id": "71f56932-0f7e-4bac-9a81-b54097522f69",
   "metadata": {},
   "outputs": [],
   "source": [
    "for i in t.transaction_history:\n",
    "    if i[\"Status\"] == 3:\n",
    "        print(i)\n"
   ]
  },
  {
   "cell_type": "code",
   "execution_count": 3,
   "id": "ca591544-10f1-4b97-9175-c2882b3a8e5e",
   "metadata": {},
   "outputs": [
    {
     "name": "stdout",
     "output_type": "stream",
     "text": [
      " Volume in drive C is System\n",
      " Volume Serial Number is DE5D-7AB0\n",
      "\n",
      " Directory of C:\\github\\TradingGym\n",
      "\n",
      "23/10/2021  01:17 PM    <DIR>          .\n",
      "23/10/2021  01:17 PM    <DIR>          ..\n",
      "18/10/2021  02:21 PM             1,954 .gitignore\n",
      "22/10/2021  01:23 PM    <DIR>          .ipynb_checkpoints\n",
      "04/10/2021  02:35 PM    <DIR>          .vscode\n",
      "18/10/2021  02:21 PM    <DIR>          backup\n",
      "18/10/2021  02:21 PM    <DIR>          bs3\n",
      "21/09/2021  11:51 AM               273 CONTRIBUTING.md\n",
      "23/10/2021  07:02 AM    <DIR>          data\n",
      "21/09/2021  01:05 PM               349 env.sh\n",
      "23/10/2021  11:00 AM    <DIR>          environments\n",
      "23/10/2021  08:17 AM             5,414 forex_trading_unit_test.ipynb\n",
      "10/09/2021  06:24 PM               173 lazypush.sh\n",
      "21/09/2021  11:51 AM             1,125 LICENSE\n",
      "23/10/2021  11:46 AM            12,995 multiply-agent-training.ipynb\n",
      "23/10/2021  01:17 PM             4,331 ppo_test.ipynb\n",
      "23/10/2021  05:47 AM             3,056 README.md\n",
      "18/10/2021  02:22 PM                86 requirements.txt\n",
      "18/10/2021  02:24 PM               670 setup.py\n",
      "04/10/2021  06:04 PM             2,417 stable_baseline3.md\n",
      "23/10/2021  08:01 AM           249,670 test_pad.ipynb\n",
      "17/10/2021  02:16 PM    <DIR>          tvenv\n",
      "23/10/2021  06:40 AM    <DIR>          unit_test\n",
      "23/10/2021  08:01 AM             1,393 Untitled.ipynb\n",
      "18/10/2021  03:13 PM    <DIR>          util\n",
      "23/10/2021  08:30 AM                15 VERSION\n",
      "21/09/2021  11:51 AM                27 _config.yml\n",
      "18/10/2021  03:10 PM               361 __init__.py\n",
      "21/10/2021  10:06 AM    <DIR>          __pycache__\n",
      "              17 File(s)        284,309 bytes\n",
      "              12 Dir(s)  306,113,757,184 bytes free\n"
     ]
    }
   ],
   "source": []
  },
  {
   "cell_type": "code",
   "execution_count": null,
   "id": "f8c88550-fc1c-4c39-bb0e-196a41604507",
   "metadata": {},
   "outputs": [],
   "source": [
    "import time\n",
    "import datetime\n",
    "from stable_baselines3 import PPO\n",
    "from stable_baselines3.common.env_util import make_vec_env\n",
    "\n",
    "# Parallel environments\n",
    "\n",
    "start_time = time.time()\n",
    "model_name = \"./data/models/GBPUSD-week-\" + datetime.datetime.now().strftime('%Y%m%d%H%M%S')\n",
    "print(f'save model as {model_name}')\n",
    "model = PPO(\"MlpPolicy\", t, verbose=1)\n",
    "model.learn(total_timesteps=250000)\n",
    "model.save(model_name)\n",
    "print(f\"--- trainning time: {(time.time() - start_time)}---\")\n"
   ]
  }
 ],
 "metadata": {
  "interpreter": {
   "hash": "b5cbf5f3919493e81ecc3b85d0c032848d05d998b2f24661b916bdd5d1cc3a5e"
  },
  "kernelspec": {
   "display_name": "Python 3 (ipykernel)",
   "language": "python",
   "name": "python3"
  },
  "language_info": {
   "codemirror_mode": {
    "name": "ipython",
    "version": 3
   },
   "file_extension": ".py",
   "mimetype": "text/x-python",
   "name": "python",
   "nbconvert_exporter": "python",
   "pygments_lexer": "ipython3",
   "version": "3.8.6rc1"
  }
 },
 "nbformat": 4,
 "nbformat_minor": 5
}
