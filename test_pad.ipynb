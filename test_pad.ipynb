{
 "cells": [
  {
   "cell_type": "code",
   "execution_count": 1,
   "id": "a23aa66c-8ddb-423f-85b3-3cdcba63418f",
   "metadata": {},
   "outputs": [],
   "source": [
    "import pandas as pd\n",
    "from environments.forex_tradning import tgym\n",
    "# from environments.finrl import StockTradingEnvV2\n"
   ]
  },
  {
   "cell_type": "code",
   "execution_count": 2,
   "id": "e1e15652-20c3-4e95-a643-6a6e53bfbc0c",
   "metadata": {},
   "outputs": [
    {
     "name": "stdout",
     "output_type": "stream",
     "text": [
      "initial done:\n",
      "             observation_list:['open', 'high', 'low', 'close', 'minute', 'hour', 'weekday', 'RSI', 'SMA']\n",
      "             assets:['GBPUSD' 'ABCD']\n",
      "             time serial: 2/12/2019 0:00 -> 6/12/2019 9:55 length: 1440\n"
     ]
    }
   ],
   "source": [
    "parameters = {\n",
    "\"observation_list\":[\"_dt\",\"open\",\"high\",\"low\",\"close\",\"minute\",\"hour\",\"weekday\",\"week\",\"month\",\"year\",\"RSI\",\"SMA\"],\n",
    "}\n",
    "parameters = {\n",
    "\"observation_list\":[\"open\",\"high\",\"low\",\"close\",\"minute\",\"hour\",\"weekday\",\"RSI\",\"SMA\"],\n",
    "}\n",
    "file = \"./data/split/GBPUSD/weekly/GBPUSD_20191110_W_148.csv\"\n",
    "file = \"./data/split/GBPUSD/weekly/GBPUSD_20191208_W_1523.csv\"\n",
    "df = pd.read_csv(file)\n",
    "t = tgym(df, **parameters)\n",
    "# t = StockTradingEnvV2(df, daily_information_cols=parameters,date_col_name=\"time\", stock_col=\"symbol\")"
   ]
  },
  {
   "cell_type": "code",
   "execution_count": 3,
   "id": "937f4f0e-7bea-4967-b99a-391a86fcf0a2",
   "metadata": {},
   "outputs": [
    {
     "name": "stdout",
     "output_type": "stream",
     "text": [
      "[2.7245586 0.5679853] <bound method tgym.step of <environments.forex_tradning.tgym object at 0x00000193E8D0E640>>\n"
     ]
    }
   ],
   "source": [
    "actions = t.action_space.sample()\n",
    "print(actions, t.step)"
   ]
  },
  {
   "cell_type": "code",
   "execution_count": 4,
   "id": "58e740ae-9de2-40ca-8528-73116a500e44",
   "metadata": {},
   "outputs": [
    {
     "data": {
      "text/plain": [
       "array([1.0000000e+04, 0.0000000e+00, 0.0000000e+00, 0.0000000e+00,\n",
       "       1.1081300e+00, 1.1081400e+00, 1.1080600e+00, 1.1081300e+00,\n",
       "       3.0000000e+01, 2.2000000e+01, 1.0000000e+00, 4.3032421e+01,\n",
       "       1.1084268e+00, 1.1094600e+00, 1.1094800e+00, 1.1093301e+00,\n",
       "       1.1093301e+00, 3.0000000e+01, 2.2000000e+01, 1.0000000e+00,\n",
       "       4.9793972e+01, 1.1091517e+00], dtype=float32)"
      ]
     },
     "execution_count": 4,
     "metadata": {},
     "output_type": "execute_result"
    }
   ],
   "source": [
    "t.reset()"
   ]
  },
  {
   "cell_type": "code",
   "execution_count": 5,
   "id": "e2675568-a178-40f2-9eda-0c106acddabc",
   "metadata": {},
   "outputs": [],
   "source": [
    "_space = 2 + len(t.assets) + len(t.assets) * len(t.observation_list)\n",
    "_space\n",
    "from gym import spaces\n",
    "import numpy as np"
   ]
  },
  {
   "cell_type": "code",
   "execution_count": 6,
   "id": "c7c006a8-7d65-4444-9253-006391403cfb",
   "metadata": {},
   "outputs": [
    {
     "data": {
      "text/plain": [
       "Box([-inf -inf -inf -inf -inf -inf -inf -inf -inf -inf -inf -inf -inf -inf\n",
       " -inf -inf -inf -inf -inf -inf -inf -inf], [inf inf inf inf inf inf inf inf inf inf inf inf inf inf inf inf inf inf\n",
       " inf inf inf inf], (22,), float32)"
      ]
     },
     "execution_count": 6,
     "metadata": {},
     "output_type": "execute_result"
    }
   ],
   "source": [
    "a = spaces.Box(low=-np.inf,high=np.inf,shape=(_space, ))\n",
    "a"
   ]
  },
  {
   "cell_type": "code",
   "execution_count": 7,
   "id": "e625a82d-2a5f-4a1e-89f2-cd4de6ca3378",
   "metadata": {},
   "outputs": [
    {
     "name": "stdout",
     "output_type": "stream",
     "text": [
      "[9.9900000e+03 0.0000000e+00 0.0000000e+00 0.0000000e+00 1.1081200e+00\n",
      " 1.1081500e+00 1.1080700e+00 1.1081400e+00 3.5000000e+01 2.2000000e+01\n",
      " 1.0000000e+00 4.3631977e+01 1.1084112e+00 1.1093301e+00 1.1093600e+00\n",
      " 1.1092800e+00 1.1093000e+00 3.5000000e+01 2.2000000e+01 1.0000000e+00\n",
      " 4.8618233e+01 1.1091673e+00] 0 False {}\n",
      "[{'Ticket': 1, 'Symbol': 1, 'ActionTime': '3/12/2019 22:30', 'Type': 0, 'Lot': 1, 'ActionPrice': 1.10933, 'SL': 300, 'PT': 836, 'Swap': 0.0, 'CloseTime': '', 'ClosePrice': 0.0, 'pip': 0, 'Reward': -10, 'DateDuration': 3, 'Status': 0}]\n",
      "[]\n"
     ]
    }
   ],
   "source": [
    "obs, r, done, info = t.step(actions)\n",
    "print(obs, r, done, info)\n",
    "print(t.tranaction_open_this_step)\n",
    "print(t.tranaction_close_this_step)"
   ]
  },
  {
   "cell_type": "code",
   "execution_count": 11,
   "id": "bb6fd5a5-7adc-47df-aa85-aa7ccc0c5893",
   "metadata": {},
   "outputs": [
    {
     "name": "stdout",
     "output_type": "stream",
     "text": [
      "[{'Ticket': 1, 'Symbol': 0, 'ActionTime': '2/12/2019 0:00', 'Type': 1, 'Lot': 1, 'ActionPrice': 1.10234, 'SL': 300, 'PT': 636, 'Swap': 0.0, 'CloseTime': '', 'ClosePrice': 0.0, 'pip': 0, 'Reward': -10, 'DateDuration': 2, 'Status': 0}, {'Ticket': 2, 'Symbol': 1, 'ActionTime': '2/12/2019 0:00', 'Type': 1, 'Lot': 1, 'ActionPrice': 1.10568, 'SL': 300, 'PT': 1347, 'Swap': 0.0, 'CloseTime': '', 'ClosePrice': 0.0, 'pip': 0, 'Reward': -10, 'DateDuration': 2, 'Status': 0}, {'Ticket': 3, 'Symbol': 1, 'ActionTime': '2/12/2019 0:05', 'Type': 1, 'Lot': 1, 'ActionPrice': 1.10572, 'SL': 300, 'PT': 965, 'Swap': 0.0, 'CloseTime': '', 'ClosePrice': 0.0, 'pip': 0, 'Reward': -10, 'DateDuration': 2, 'Status': 0}, {'Ticket': 5, 'Symbol': 1, 'ActionTime': '2/12/2019 0:15', 'Type': 1, 'Lot': 1, 'ActionPrice': 1.10566, 'SL': 300, 'PT': 821, 'Swap': 0.0, 'CloseTime': '', 'ClosePrice': 0.0, 'pip': 0, 'Reward': -10, 'DateDuration': 2, 'Status': 0}]\n",
      "------------\n",
      "[{'Ticket': 4, 'Symbol': 0, 'ActionTime': '2/12/2019 0:10', 'Type': 0, 'Lot': 1, 'ActionPrice': 1.10206, 'SL': 300, 'PT': 365, 'Swap': 0.0, 'CloseTime': '2/12/2019 0:15', 'ClosePrice': 1.0990600000000001, 'pip': -300, 'Reward': -310, 'DateDuration': 2, 'Status': 1}]\n"
     ]
    }
   ],
   "source": [
    "print(t.transction_live)\n",
    "print('------------')\n",
    "print(t.transction_history)"
   ]
  },
  {
   "cell_type": "code",
   "execution_count": 8,
   "id": "95fe32e4-cf5b-420d-af2e-d204be731b5a",
   "metadata": {},
   "outputs": [
    {
     "name": "stderr",
     "output_type": "stream",
     "text": [
      "C:\\github\\TradingGym\\tvenv\\lib\\site-packages\\setuptools\\distutils_patch.py:25: UserWarning: Distutils was imported before Setuptools. This usage is discouraged and may exhibit undesirable behaviors or errors. Please use Setuptools' objects directly or at least import Setuptools first.\n",
      "  warnings.warn(\n",
      "C:\\github\\TradingGym\\tvenv\\lib\\site-packages\\stable_baselines3\\common\\env_checker.py:272: UserWarning: We recommend you to use a symmetric and normalized Box action space (range=[-1, 1]) cf https://stable-baselines3.readthedocs.io/en/master/guide/rl_tips.html\n",
      "  warnings.warn(\n"
     ]
    }
   ],
   "source": [
    "from stable_baselines3.common.env_checker import check_env\n",
    "# It will check your custom environment and output additional warnings if needed\n",
    "check_env(t)"
   ]
  },
  {
   "cell_type": "code",
   "execution_count": null,
   "id": "62a6ab05-1e5c-4be5-9300-8bca843dbd0f",
   "metadata": {},
   "outputs": [],
   "source": [
    "#from environments.forex_tradning import tgym\n",
    "import time\n",
    "from stable_baselines3 import PPO\n",
    "from stable_baselines3.common.env_util import make_vec_env\n",
    "\n",
    "# Parallel environments\n",
    "\n",
    "start_time = time.time()\n",
    "model_name = \"forex-trading-1\"\n",
    "model = PPO(\"MlpPolicy\", t, verbose=1)\n",
    "model.learn(total_timesteps=1)\n",
    "model.save(model_name)\n",
    "print(f\"--- trainning time: {(time.time() - start_time)}---\")\n",
    "del model # remove to demonstrate saving and loading\n",
    "\n",
    "model = PPO.load(model_name)\n",
    "\n",
    "start_time = time.time()\n",
    "obs = env.reset()\n",
    "while True:\n",
    "    action, _states = model.predict(obs)\n",
    "    obs, rewards, dones, info = env.step(action)\n",
    "    env.render()\n",
    "print(f\"--- running time: {(time.time() - start_time)}---\")"
   ]
  },
  {
   "cell_type": "code",
   "execution_count": 6,
   "id": "7946f5f0-067f-4d13-b699-76e282c2225c",
   "metadata": {},
   "outputs": [
    {
     "data": {
      "text/plain": [
       "'2019-12-02 00:00:00'"
      ]
     },
     "execution_count": 6,
     "metadata": {},
     "output_type": "execute_result"
    }
   ],
   "source": [
    "min(t.dt_datetime)"
   ]
  },
  {
   "cell_type": "code",
   "execution_count": null,
   "id": "d689d954-b950-4833-bfd0-a8a037964d83",
   "metadata": {},
   "outputs": [],
   "source": [
    "t = StockTradingEnvV2(df, daily_information_cols=parameters,date_col_name=\"time\", stock_col=\"symbol\")"
   ]
  },
  {
   "cell_type": "code",
   "execution_count": null,
   "id": "da010750-b76d-40ae-9a60-2145bf64da2c",
   "metadata": {},
   "outputs": [],
   "source": [
    "import pandas as pd, numpy as np\n",
    "\n",
    "df = pd.DataFrame({'A': 'foo bar foo bar foo bar foo foo'.split(),\n",
    "                   'B': 'one one two three two two one three'.split(),\n",
    "                   'C': np.arange(8), 'D': np.arange(8) * 2})"
   ]
  },
  {
   "cell_type": "code",
   "execution_count": null,
   "id": "412a0c51-527f-4b56-9591-0bf5bd4d2bff",
   "metadata": {},
   "outputs": [],
   "source": []
  },
  {
   "cell_type": "code",
   "execution_count": null,
   "id": "9fdaa2cf-7bb1-4fc1-82e6-dc87e0770c46",
   "metadata": {},
   "outputs": [],
   "source": [
    "mask = df['C'] == 4\n",
    "df[mask]"
   ]
  },
  {
   "cell_type": "code",
   "execution_count": null,
   "id": "0543ce80-ec88-441f-af7b-c529ff9ea700",
   "metadata": {},
   "outputs": [],
   "source": [
    "df.query('C == 4')"
   ]
  },
  {
   "cell_type": "code",
   "execution_count": null,
   "id": "b4bf5602-ab4e-4f29-b8c9-9bed107c9dff",
   "metadata": {},
   "outputs": [],
   "source": []
  },
  {
   "cell_type": "code",
   "execution_count": null,
   "id": "af34c025-41d7-4d22-be29-df6052f91694",
   "metadata": {},
   "outputs": [],
   "source": []
  },
  {
   "cell_type": "code",
   "execution_count": null,
   "id": "75ddb965-2001-4c2a-8eee-fc42886b3eec",
   "metadata": {},
   "outputs": [],
   "source": []
  }
 ],
 "metadata": {
  "kernelspec": {
   "display_name": "Python 3 (ipykernel)",
   "language": "python",
   "name": "python3"
  },
  "language_info": {
   "codemirror_mode": {
    "name": "ipython",
    "version": 3
   },
   "file_extension": ".py",
   "mimetype": "text/x-python",
   "name": "python",
   "nbconvert_exporter": "python",
   "pygments_lexer": "ipython3",
   "version": "3.8.6rc1"
  }
 },
 "nbformat": 4,
 "nbformat_minor": 5
}
