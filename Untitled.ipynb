{
 "cells": [
  {
   "cell_type": "code",
   "execution_count": null,
   "id": "a0bed929-ebbb-42e6-92ea-2d3db0635523",
   "metadata": {},
   "outputs": [],
   "source": [
    "import pandas as pd\n",
    "from environments.forex_trading import tgym"
   ]
  },
  {
   "cell_type": "code",
   "execution_count": null,
   "id": "f7d16e13-67dc-403a-96db-91bf3d3f52b6",
   "metadata": {},
   "outputs": [],
   "source": [
    "parameters = {\n",
    "    \"observation_list\":[\"open\",\"high\",\"low\",\"close\",\"minute\",\"hour\",\"weekday\",\"RSI\",\"SMA\"],\n",
    "    \"stop_loss_max\":200,\n",
    "    \"profit_taken_max\":400    \n",
    "}\n",
    "file = \"./data/split/GBPUSD/weekly/GBPUSD_20191110_W_148.csv\"\n",
    "#file = \"./data/split/GBPUSD/weekly/GBPUSD_20191208_W_1523.csvx\"\n",
    "#file = \"./data/split/GBPUSD/weekly/GBPUSD_20190915_W_1401.csvx\"\n",
    "df = pd.read_csv(file)\n",
    "t = tgym(df, **parameters)"
   ]
  }
 ],
 "metadata": {
  "kernelspec": {
   "display_name": "Python 3 (ipykernel)",
   "language": "python",
   "name": "python3"
  },
  "language_info": {
   "codemirror_mode": {
    "name": "ipython",
    "version": 3
   },
   "file_extension": ".py",
   "mimetype": "text/x-python",
   "name": "python",
   "nbconvert_exporter": "python",
   "pygments_lexer": "ipython3",
   "version": "3.8.6rc1"
  }
 },
 "nbformat": 4,
 "nbformat_minor": 5
}
