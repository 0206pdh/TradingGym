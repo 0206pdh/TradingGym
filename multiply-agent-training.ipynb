{
 "cells": [
  {
   "cell_type": "code",
   "execution_count": 1,
   "id": "a0bed929-ebbb-42e6-92ea-2d3db0635523",
   "metadata": {},
   "outputs": [
    {
     "name": "stderr",
     "output_type": "stream",
     "text": [
      "c:\\github\\TradingGym\\tvenv\\lib\\site-packages\\setuptools\\distutils_patch.py:25: UserWarning: Distutils was imported before Setuptools. This usage is discouraged and may exhibit undesirable behaviors or errors. Please use Setuptools' objects directly or at least import Setuptools first.\n",
      "  warnings.warn(\n"
     ]
    }
   ],
   "source": [
    "import pandas as pd\n",
    "from environments.forex_trading import tgym"
   ]
  },
  {
   "cell_type": "code",
   "execution_count": 4,
   "id": "f7d16e13-67dc-403a-96db-91bf3d3f52b6",
   "metadata": {},
   "outputs": [
    {
     "name": "stdout",
     "output_type": "stream",
     "text": [
      "['./data/split/GBPUSD/weekly/GBPUSD_2017_0.csv', './data/split/GBPUSD/weekly/GBPUSD_2017_1.csv']\n"
     ]
    }
   ],
   "source": [
    "import os\n",
    "files=[]\n",
    "for i in range(2):\n",
    "    file = f\"./data/split/GBPUSD/weekly/GBPUSD_2017_{i}.csv\"\n",
    "    if os.path.isfile(file):\n",
    "        files.append(file)\n",
    "    else:\n",
    "        print(f'not exist: {file}')\n",
    "print(files)    \n"
   ]
  },
  {
   "cell_type": "code",
   "execution_count": 5,
   "id": "ecd1fc11-0018-46c9-a1c5-d2d7d0eeb8ca",
   "metadata": {},
   "outputs": [],
   "source": [
    "\n",
    "def train(env, agent, files, if_vix = True,**kwargs):\n",
    "    learning_rate = kwargs.get('learning_rate', 2 ** -15)\n",
    "    batch_size = kwargs.get('batch_size', 2 ** 11 )\n",
    "    gamma = kwargs.get('gamma', 0.99)\n",
    "    seed = kwargs.get('seed', 312)\n",
    "    total_timesteps = kwargs.get('total_timesteps', 1e6)\n",
    "    net_dimension = kwargs.get('net_dimension', 2**9)\n",
    "    cwd = kwargs.get('cwd','./'+str(agent))\n",
    "\n",
    "    # env_instance = map(env, [pd.read_csv(f) for f in files])\n",
    "    if agent == 'ppo':\n",
    "        from stable_baselines3 import PPO\n",
    "        from stable_baselines3.common.vec_env import SubprocVecEnv, DummyVecEnv\n",
    "\n",
    "        # env_train = [x.get_sb_env for x in env_instance ]\n",
    "        vector_env = [lambda:env(df=pd.read_csv(f)) for f in files]\n",
    "        env_train = SubprocVecEnv(vector_env)\n",
    "        model = PPO(\"MlpPolicy\", env_train, learning_rate=learning_rate, \n",
    "                    n_steps=2048, batch_size=batch_size, ent_coef=0.0, \n",
    "                    gamma=gamma, seed=seed)\n",
    "        model.learn(total_timesteps=total_timesteps, tb_log_name = 'ppo')\n",
    "        print('Training finished!')\n",
    "        model.save(cwd)\n",
    "        print('Trained model saved in ' + str(cwd))\n",
    "\n",
    "    else:\n",
    "        raise ValueError('DRL library input is NOT supported. Please check.')"
   ]
  },
  {
   "cell_type": "code",
   "execution_count": null,
   "id": "a5b6cfe4-2bec-4135-b31b-60c8ac71d5aa",
   "metadata": {},
   "outputs": [],
   "source": [
    "train(env=tgym,agent=\"ppo\",files=files)"
   ]
  },
  {
   "cell_type": "code",
   "execution_count": 11,
   "id": "faa0ccd5-8d74-48ac-aa13-802d893558ad",
   "metadata": {},
   "outputs": [
    {
     "data": {
      "text/plain": [
       "<map at 0x185eedf8670>"
      ]
     },
     "execution_count": 11,
     "metadata": {},
     "output_type": "execute_result"
    }
   ],
   "source": [
    "dict = [\"./data/split/GBPUSD/weekly/GBPUSD_2017_0.csv\",\"./data/split/GBPUSD/weekly/GBPUSD_2017_1.csv\"]\n",
    "l = map(tgym, [pd.read_csv(f) for f in dict])\n",
    "l"
   ]
  },
  {
   "cell_type": "code",
   "execution_count": 8,
   "id": "8c8eaa34-9e6a-4b8b-8a38-ae8978ac8eac",
   "metadata": {},
   "outputs": [
    {
     "data": {
      "text/plain": [
       "[<function __main__.<lambda>()>]"
      ]
     },
     "execution_count": 12,
     "metadata": {},
     "output_type": "execute_result"
    }
   ],
   "source": [
    "def x(i):\n",
    "    print (i*2)\n",
    "def y(i):\n",
    "    print (i*3)\n",
    "def z(i):\n",
    "    print (i*4)\n",
    "\n",
    "    \n",
    "a=[x,y,z]\n",
    "p = [lambda: a]\n",
    "p(5)"
   ]
  },
  {
   "cell_type": "code",
   "execution_count": 15,
   "id": "08302341-b665-4c06-87f6-8f442f7877e5",
   "metadata": {},
   "outputs": [
    {
     "name": "stderr",
     "output_type": "stream",
     "text": [
      "'apt' is not recognized as an internal or external command,\n",
      "operable program or batch file.\n"
     ]
    },
    {
     "name": "stdout",
     "output_type": "stream",
     "text": [
      "Requirement already satisfied: stable-baselines3[extra] in c:\\github\\tradinggym\\tvenv\\lib\\site-packages (1.2.0)"
     ]
    },
    {
     "name": "stderr",
     "output_type": "stream",
     "text": [
      "WARNING: You are using pip version 21.2.4; however, version 21.3 is available.\n",
      "You should consider upgrading via the 'c:\\github\\tradinggym\\tvenv\\scripts\\python.exe -m pip install --upgrade pip' command.\n"
     ]
    },
    {
     "name": "stdout",
     "output_type": "stream",
     "text": [
      "\n",
      "Requirement already satisfied: torch>=1.8.1 in c:\\github\\tradinggym\\tvenv\\lib\\site-packages (from stable-baselines3[extra]) (1.9.1)\n",
      "Requirement already satisfied: gym>=0.17 in c:\\github\\tradinggym\\tvenv\\lib\\site-packages (from stable-baselines3[extra]) (0.20.0)\n",
      "Requirement already satisfied: cloudpickle in c:\\github\\tradinggym\\tvenv\\lib\\site-packages (from stable-baselines3[extra]) (2.0.0)\n",
      "Requirement already satisfied: numpy in c:\\github\\tradinggym\\tvenv\\lib\\site-packages (from stable-baselines3[extra]) (1.21.2)\n",
      "Requirement already satisfied: matplotlib in c:\\github\\tradinggym\\tvenv\\lib\\site-packages (from stable-baselines3[extra]) (3.4.3)\n",
      "Requirement already satisfied: pandas in c:\\github\\tradinggym\\tvenv\\lib\\site-packages (from stable-baselines3[extra]) (1.3.3)\n",
      "Requirement already satisfied: atari-py~=0.2.0 in c:\\github\\tradinggym\\tvenv\\lib\\site-packages (from stable-baselines3[extra]) (0.2.9)\n",
      "Requirement already satisfied: pillow in c:\\github\\tradinggym\\tvenv\\lib\\site-packages (from stable-baselines3[extra]) (8.3.2)\n",
      "Requirement already satisfied: psutil in c:\\github\\tradinggym\\tvenv\\lib\\site-packages (from stable-baselines3[extra]) (5.8.0)\n",
      "Requirement already satisfied: tensorboard>=2.2.0 in c:\\github\\tradinggym\\tvenv\\lib\\site-packages (from stable-baselines3[extra]) (2.6.0)\n",
      "Requirement already satisfied: opencv-python in c:\\github\\tradinggym\\tvenv\\lib\\site-packages (from stable-baselines3[extra]) (4.5.3.56)\n",
      "Requirement already satisfied: six in c:\\github\\tradinggym\\tvenv\\lib\\site-packages (from atari-py~=0.2.0->stable-baselines3[extra]) (1.16.0)\n",
      "Requirement already satisfied: absl-py>=0.4 in c:\\github\\tradinggym\\tvenv\\lib\\site-packages (from tensorboard>=2.2.0->stable-baselines3[extra]) (0.14.1)\n",
      "Requirement already satisfied: google-auth<2,>=1.6.3 in c:\\github\\tradinggym\\tvenv\\lib\\site-packages (from tensorboard>=2.2.0->stable-baselines3[extra]) (1.35.0)\n",
      "Requirement already satisfied: setuptools>=41.0.0 in c:\\github\\tradinggym\\tvenv\\lib\\site-packages (from tensorboard>=2.2.0->stable-baselines3[extra]) (49.2.1)\n",
      "Requirement already satisfied: wheel>=0.26 in c:\\github\\tradinggym\\tvenv\\lib\\site-packages (from tensorboard>=2.2.0->stable-baselines3[extra]) (0.37.0)\n",
      "Requirement already satisfied: werkzeug>=0.11.15 in c:\\github\\tradinggym\\tvenv\\lib\\site-packages (from tensorboard>=2.2.0->stable-baselines3[extra]) (2.0.2)\n",
      "Requirement already satisfied: requests<3,>=2.21.0 in c:\\github\\tradinggym\\tvenv\\lib\\site-packages (from tensorboard>=2.2.0->stable-baselines3[extra]) (2.26.0)\n",
      "Requirement already satisfied: tensorboard-data-server<0.7.0,>=0.6.0 in c:\\github\\tradinggym\\tvenv\\lib\\site-packages (from tensorboard>=2.2.0->stable-baselines3[extra]) (0.6.1)\n",
      "Requirement already satisfied: markdown>=2.6.8 in c:\\github\\tradinggym\\tvenv\\lib\\site-packages (from tensorboard>=2.2.0->stable-baselines3[extra]) (3.3.4)\n",
      "Requirement already satisfied: protobuf>=3.6.0 in c:\\github\\tradinggym\\tvenv\\lib\\site-packages (from tensorboard>=2.2.0->stable-baselines3[extra]) (3.18.1)\n",
      "Requirement already satisfied: tensorboard-plugin-wit>=1.6.0 in c:\\github\\tradinggym\\tvenv\\lib\\site-packages (from tensorboard>=2.2.0->stable-baselines3[extra]) (1.8.0)\n",
      "Requirement already satisfied: grpcio>=1.24.3 in c:\\github\\tradinggym\\tvenv\\lib\\site-packages (from tensorboard>=2.2.0->stable-baselines3[extra]) (1.41.0)\n",
      "Requirement already satisfied: google-auth-oauthlib<0.5,>=0.4.1 in c:\\github\\tradinggym\\tvenv\\lib\\site-packages (from tensorboard>=2.2.0->stable-baselines3[extra]) (0.4.6)\n",
      "Requirement already satisfied: cachetools<5.0,>=2.0.0 in c:\\github\\tradinggym\\tvenv\\lib\\site-packages (from google-auth<2,>=1.6.3->tensorboard>=2.2.0->stable-baselines3[extra]) (4.2.4)\n",
      "Requirement already satisfied: pyasn1-modules>=0.2.1 in c:\\github\\tradinggym\\tvenv\\lib\\site-packages (from google-auth<2,>=1.6.3->tensorboard>=2.2.0->stable-baselines3[extra]) (0.2.8)\n",
      "Requirement already satisfied: rsa<5,>=3.1.4 in c:\\github\\tradinggym\\tvenv\\lib\\site-packages (from google-auth<2,>=1.6.3->tensorboard>=2.2.0->stable-baselines3[extra]) (4.7.2)\n",
      "Requirement already satisfied: requests-oauthlib>=0.7.0 in c:\\github\\tradinggym\\tvenv\\lib\\site-packages (from google-auth-oauthlib<0.5,>=0.4.1->tensorboard>=2.2.0->stable-baselines3[extra]) (1.3.0)\n",
      "Requirement already satisfied: pyasn1<0.5.0,>=0.4.6 in c:\\github\\tradinggym\\tvenv\\lib\\site-packages (from pyasn1-modules>=0.2.1->google-auth<2,>=1.6.3->tensorboard>=2.2.0->stable-baselines3[extra]) (0.4.8)\n",
      "Requirement already satisfied: idna<4,>=2.5 in c:\\github\\tradinggym\\tvenv\\lib\\site-packages (from requests<3,>=2.21.0->tensorboard>=2.2.0->stable-baselines3[extra]) (3.2)\n",
      "Requirement already satisfied: certifi>=2017.4.17 in c:\\github\\tradinggym\\tvenv\\lib\\site-packages (from requests<3,>=2.21.0->tensorboard>=2.2.0->stable-baselines3[extra]) (2021.5.30)\n",
      "Requirement already satisfied: urllib3<1.27,>=1.21.1 in c:\\github\\tradinggym\\tvenv\\lib\\site-packages (from requests<3,>=2.21.0->tensorboard>=2.2.0->stable-baselines3[extra]) (1.26.7)\n",
      "Requirement already satisfied: charset-normalizer~=2.0.0 in c:\\github\\tradinggym\\tvenv\\lib\\site-packages (from requests<3,>=2.21.0->tensorboard>=2.2.0->stable-baselines3[extra]) (2.0.6)\n",
      "Requirement already satisfied: oauthlib>=3.0.0 in c:\\github\\tradinggym\\tvenv\\lib\\site-packages (from requests-oauthlib>=0.7.0->google-auth-oauthlib<0.5,>=0.4.1->tensorboard>=2.2.0->stable-baselines3[extra]) (3.1.1)\n",
      "Requirement already satisfied: typing-extensions in c:\\github\\tradinggym\\tvenv\\lib\\site-packages (from torch>=1.8.1->stable-baselines3[extra]) (3.10.0.2)\n",
      "Requirement already satisfied: pyparsing>=2.2.1 in c:\\github\\tradinggym\\tvenv\\lib\\site-packages (from matplotlib->stable-baselines3[extra]) (2.4.7)\n",
      "Requirement already satisfied: kiwisolver>=1.0.1 in c:\\github\\tradinggym\\tvenv\\lib\\site-packages (from matplotlib->stable-baselines3[extra]) (1.3.2)\n",
      "Requirement already satisfied: cycler>=0.10 in c:\\github\\tradinggym\\tvenv\\lib\\site-packages (from matplotlib->stable-baselines3[extra]) (0.10.0)\n",
      "Requirement already satisfied: python-dateutil>=2.7 in c:\\github\\tradinggym\\tvenv\\lib\\site-packages (from matplotlib->stable-baselines3[extra]) (2.8.2)\n",
      "Requirement already satisfied: pytz>=2017.3 in c:\\github\\tradinggym\\tvenv\\lib\\site-packages (from pandas->stable-baselines3[extra]) (2021.1)\n"
     ]
    }
   ],
   "source": [
    "\n",
    "!pip install stable-baselines3[extra]"
   ]
  },
  {
   "cell_type": "code",
   "execution_count": null,
   "id": "40df8d7c-5f86-42bd-be09-c8317231c16f",
   "metadata": {},
   "outputs": [],
   "source": []
  }
 ],
 "metadata": {
  "interpreter": {
   "hash": "b5cbf5f3919493e81ecc3b85d0c032848d05d998b2f24661b916bdd5d1cc3a5e"
  },
  "kernelspec": {
   "display_name": "Python 3 (ipykernel)",
   "language": "python",
   "name": "python3"
  },
  "language_info": {
   "codemirror_mode": {
    "name": "ipython",
    "version": 3
   },
   "file_extension": ".py",
   "mimetype": "text/x-python",
   "name": "python",
   "nbconvert_exporter": "python",
   "pygments_lexer": "ipython3",
   "version": "3.8.6rc1"
  }
 },
 "nbformat": 4,
 "nbformat_minor": 5
}
